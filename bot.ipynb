{
 "cells": [
  {
   "cell_type": "code",
   "execution_count": 23,
   "metadata": {},
   "outputs": [],
   "source": [
    "from typing import List\n",
    "\n",
    "class Card:\n",
    "    def __init__(self, suit: str, label: any, rank: int):\n",
    "        self.suit = suit\n",
    "        self.label = label\n",
    "        self.rank = rank\n",
    "    \n",
    "    def __repr__(self):\n",
    "        return f'Card({self.label} of {self.suit}, rank {self.rank})'\n",
    "    \n",
    "    def __str__(self):\n",
    "        return f'{self.label} of {self.suit}, rank {self.rank}'"
   ]
  },
  {
   "cell_type": "code",
   "execution_count": 25,
   "metadata": {},
   "outputs": [
    {
     "name": "stdout",
     "output_type": "stream",
     "text": [
      "[Card(JOKER of WILD, rank 100), Card(4 of DIAMONDS, rank 1), Card(5 of DIAMONDS, rank 2), Card(6 of DIAMONDS, rank 3), Card(7 of DIAMONDS, rank 4), Card(8 of DIAMONDS, rank 5), Card(9 of DIAMONDS, rank 6), Card(10 of DIAMONDS, rank 7), Card(J of DIAMONDS, rank 8), Card(Q of DIAMONDS, rank 9), Card(K of DIAMONDS, rank 10), Card(A of DIAMONDS, rank 11), Card(4 of HEARTS, rank 1), Card(5 of HEARTS, rank 2), Card(6 of HEARTS, rank 3), Card(7 of HEARTS, rank 4), Card(8 of HEARTS, rank 5), Card(9 of HEARTS, rank 6), Card(10 of HEARTS, rank 7), Card(J of HEARTS, rank 8), Card(Q of HEARTS, rank 9), Card(K of HEARTS, rank 10), Card(A of HEARTS, rank 11), Card(5 of SPACES, rank 2), Card(6 of SPACES, rank 3), Card(7 of SPACES, rank 4), Card(8 of SPACES, rank 5), Card(9 of SPACES, rank 6), Card(10 of SPACES, rank 7), Card(J of SPACES, rank 8), Card(Q of SPACES, rank 9), Card(K of SPACES, rank 10), Card(A of SPACES, rank 11), Card(5 of CLUBS, rank 2), Card(6 of CLUBS, rank 3), Card(7 of CLUBS, rank 4), Card(8 of CLUBS, rank 5), Card(9 of CLUBS, rank 6), Card(10 of CLUBS, rank 7), Card(J of CLUBS, rank 8), Card(Q of CLUBS, rank 9), Card(K of CLUBS, rank 10), Card(A of CLUBS, rank 11)]\n",
      "43\n"
     ]
    }
   ],
   "source": [
    "DIAMONDS = 'DIAMONDS'\n",
    "HEARTS = 'HEARTS'\n",
    "SPADES = 'SPACES'\n",
    "CLUBS = 'CLUBS'\n",
    "WILD = 'WILD'\n",
    "\n",
    "RED_SUITS = [DIAMONDS, HEARTS]\n",
    "BLACK_SUITS = [SPADES, CLUBS]\n",
    "\n",
    "JOKER = 'JOKER'\n",
    "\n",
    "DECK = [Card(WILD, JOKER, 100)]\n",
    "\n",
    "SUIT_LABELS = list(range(4, 11)) + ['J', 'Q', 'K', 'A']\n",
    "SUIT_RANKS = list(range(1, len(SUIT_LABELS) + 1))\n",
    "\n",
    "for suit in [DIAMONDS, HEARTS, SPADES, CLUBS]:\n",
    "    for label, rank in zip(SUIT_LABELS, SUIT_RANKS):\n",
    "        if label == 4 and suit in BLACK_SUITS:\n",
    "            continue\n",
    "        \n",
    "        DECK.append(Card(suit, label, rank))\n",
    "\n",
    "print(DECK)\n",
    "print(len(DECK))"
   ]
  },
  {
   "cell_type": "code",
   "execution_count": 52,
   "metadata": {},
   "outputs": [
    {
     "name": "stdout",
     "output_type": "stream",
     "text": [
      "[Card(10 of CLUBS, rank 7), Card(A of DIAMONDS, rank 11), Card(J of CLUBS, rank 8), Card(JOKER of WILD, rank 100), Card(5 of SPACES, rank 2), Card(Q of HEARTS, rank 9), Card(6 of HEARTS, rank 3), Card(10 of DIAMONDS, rank 7), Card(10 of HEARTS, rank 7), Card(K of HEARTS, rank 10), Card(4 of HEARTS, rank 1), Card(9 of DIAMONDS, rank 6), Card(8 of DIAMONDS, rank 5), Card(4 of DIAMONDS, rank 1), Card(10 of SPACES, rank 7), Card(7 of HEARTS, rank 4), Card(K of DIAMONDS, rank 10), Card(Q of CLUBS, rank 9), Card(9 of SPACES, rank 6), Card(6 of CLUBS, rank 3), Card(J of SPACES, rank 8), Card(K of CLUBS, rank 10), Card(5 of CLUBS, rank 2), Card(9 of HEARTS, rank 6), Card(9 of CLUBS, rank 6), Card(8 of CLUBS, rank 5), Card(7 of CLUBS, rank 4), Card(6 of DIAMONDS, rank 3), Card(A of CLUBS, rank 11), Card(7 of DIAMONDS, rank 4), Card(Q of DIAMONDS, rank 9), Card(J of DIAMONDS, rank 8), Card(5 of HEARTS, rank 2), Card(A of HEARTS, rank 11), Card(Q of SPACES, rank 9), Card(J of HEARTS, rank 8), Card(7 of SPACES, rank 4), Card(K of SPACES, rank 10), Card(A of SPACES, rank 11), Card(8 of HEARTS, rank 5), Card(5 of DIAMONDS, rank 2), Card(8 of SPACES, rank 5), Card(6 of SPACES, rank 3)]\n",
      "[[Card(6 of SPACES, rank 3), Card(8 of SPACES, rank 5), Card(5 of DIAMONDS, rank 2), Card(7 of DIAMONDS, rank 4), Card(A of CLUBS, rank 11), Card(6 of DIAMONDS, rank 3), Card(7 of CLUBS, rank 4), Card(8 of DIAMONDS, rank 5), Card(9 of DIAMONDS, rank 6), Card(4 of HEARTS, rank 1)], [Card(8 of HEARTS, rank 5), Card(A of SPACES, rank 11), Card(K of SPACES, rank 10), Card(8 of CLUBS, rank 5), Card(9 of CLUBS, rank 6), Card(9 of HEARTS, rank 6), Card(5 of CLUBS, rank 2), Card(K of HEARTS, rank 10), Card(10 of HEARTS, rank 7), Card(10 of DIAMONDS, rank 7)], [Card(7 of SPACES, rank 4), Card(J of HEARTS, rank 8), Card(Q of SPACES, rank 9), Card(K of CLUBS, rank 10), Card(J of SPACES, rank 8), Card(6 of CLUBS, rank 3), Card(9 of SPACES, rank 6), Card(6 of HEARTS, rank 3), Card(Q of HEARTS, rank 9), Card(5 of SPACES, rank 2)], [Card(A of HEARTS, rank 11), Card(5 of HEARTS, rank 2), Card(J of DIAMONDS, rank 8), Card(Q of CLUBS, rank 9), Card(K of DIAMONDS, rank 10), Card(7 of HEARTS, rank 4), Card(10 of SPACES, rank 7), Card(JOKER of WILD, rank 100), Card(J of CLUBS, rank 8), Card(A of DIAMONDS, rank 11)]]\n",
      "[Card(Q of DIAMONDS, rank 9), Card(4 of DIAMONDS, rank 1), Card(10 of CLUBS, rank 7)]\n",
      "[]\n"
     ]
    }
   ],
   "source": [
    "from random import shuffle, seed\n",
    "from copy import deepcopy\n",
    "\n",
    "SEED = 0\n",
    "\n",
    "seed(SEED)\n",
    "\n",
    "shuffled_deck = deepcopy(DECK)\n",
    "shuffle(shuffled_deck)\n",
    "\n",
    "print(shuffled_deck)\n",
    "\n",
    "kitty = []\n",
    "players_cards = [[] for _ in range(4)]\n",
    "\n",
    "for cards_to_be_dealt in [3, 4, 3]:\n",
    "    for player in players_cards:\n",
    "        player.extend([shuffled_deck.pop() for _ in range(cards_to_be_dealt)])\n",
    "    \n",
    "    kitty.append(shuffled_deck.pop())\n",
    "\n",
    "print(players_cards)\n",
    "print(kitty)\n",
    "print(shuffled_deck)"
   ]
  },
  {
   "cell_type": "code",
   "execution_count": 58,
   "metadata": {},
   "outputs": [],
   "source": [
    "class Player:\n",
    "    def __init__(self, label: any, cards: List[Card]):\n",
    "        self.label = label\n",
    "        self.cards = cards\n",
    "    \n",
    "    def __repr__(self):\n",
    "        return f'Player({label}, {self.cards})'\n",
    "    \n",
    "    def __str__(self):\n",
    "        return f'{label}: {self.cards}'"
   ]
  },
  {
   "cell_type": "code",
   "execution_count": 60,
   "metadata": {},
   "outputs": [],
   "source": [
    "players = [Player(label, cards) for label, cards in zip(['N', 'E', 'S', 'W'], players_cards)]\n",
    "print(players)"
   ]
  }
 ],
 "metadata": {
  "kernelspec": {
   "display_name": "500bot",
   "language": "python",
   "name": "python3"
  },
  "language_info": {
   "codemirror_mode": {
    "name": "ipython",
    "version": 3
   },
   "file_extension": ".py",
   "mimetype": "text/x-python",
   "name": "python",
   "nbconvert_exporter": "python",
   "pygments_lexer": "ipython3",
   "version": "3.7.12"
  }
 },
 "nbformat": 4,
 "nbformat_minor": 2
}
