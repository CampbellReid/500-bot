{
 "cells": [
  {
   "cell_type": "code",
   "execution_count": 355,
   "metadata": {},
   "outputs": [],
   "source": [
    "from typing import List\n",
    "\n",
    "class Card:\n",
    "    def __init__(self, suit: str, label: any, rank: int):\n",
    "        self.suit = suit\n",
    "        self.label = label\n",
    "        self.rank = rank\n",
    "    \n",
    "    def __repr__(self):\n",
    "        return f'Card({self.label} of {self.suit}, rank {self.rank})'\n",
    "    \n",
    "    def __str__(self):\n",
    "        return f'{self.label} of {self.suit}, rank {self.rank}'"
   ]
  },
  {
   "cell_type": "code",
   "execution_count": 356,
   "metadata": {},
   "outputs": [
    {
     "name": "stdout",
     "output_type": "stream",
     "text": [
      "[Card(JOKER of WILD, rank 100), Card(4 of DIAMONDS, rank 1), Card(5 of DIAMONDS, rank 2), Card(6 of DIAMONDS, rank 3), Card(7 of DIAMONDS, rank 4), Card(8 of DIAMONDS, rank 5), Card(9 of DIAMONDS, rank 6), Card(10 of DIAMONDS, rank 7), Card(J of DIAMONDS, rank 8), Card(Q of DIAMONDS, rank 9), Card(K of DIAMONDS, rank 10), Card(A of DIAMONDS, rank 11), Card(4 of HEARTS, rank 1), Card(5 of HEARTS, rank 2), Card(6 of HEARTS, rank 3), Card(7 of HEARTS, rank 4), Card(8 of HEARTS, rank 5), Card(9 of HEARTS, rank 6), Card(10 of HEARTS, rank 7), Card(J of HEARTS, rank 8), Card(Q of HEARTS, rank 9), Card(K of HEARTS, rank 10), Card(A of HEARTS, rank 11), Card(5 of SPADES, rank 2), Card(6 of SPADES, rank 3), Card(7 of SPADES, rank 4), Card(8 of SPADES, rank 5), Card(9 of SPADES, rank 6), Card(10 of SPADES, rank 7), Card(J of SPADES, rank 8), Card(Q of SPADES, rank 9), Card(K of SPADES, rank 10), Card(A of SPADES, rank 11), Card(5 of CLUBS, rank 2), Card(6 of CLUBS, rank 3), Card(7 of CLUBS, rank 4), Card(8 of CLUBS, rank 5), Card(9 of CLUBS, rank 6), Card(10 of CLUBS, rank 7), Card(J of CLUBS, rank 8), Card(Q of CLUBS, rank 9), Card(K of CLUBS, rank 10), Card(A of CLUBS, rank 11)]\n",
      "43\n"
     ]
    }
   ],
   "source": [
    "DIAMONDS = 'DIAMONDS'\n",
    "HEARTS = 'HEARTS'\n",
    "SPADES = 'SPADES'\n",
    "CLUBS = 'CLUBS'\n",
    "WILD = 'WILD'\n",
    "\n",
    "RED_SUITS = [DIAMONDS, HEARTS]\n",
    "BLACK_SUITS = [SPADES, CLUBS]\n",
    "\n",
    "JOKER = 'JOKER'\n",
    "\n",
    "DECK = [Card(WILD, JOKER, 100)]\n",
    "\n",
    "SUIT_LABELS = list(range(4, 11)) + ['J', 'Q', 'K', 'A']\n",
    "SUIT_RANKS = list(range(1, len(SUIT_LABELS) + 1))\n",
    "\n",
    "for suit in [DIAMONDS, HEARTS, SPADES, CLUBS]:\n",
    "    for label, rank in zip(SUIT_LABELS, SUIT_RANKS):\n",
    "        if label == 4 and suit in BLACK_SUITS:\n",
    "            continue\n",
    "        \n",
    "        DECK.append(Card(suit, label, rank))\n",
    "\n",
    "print(DECK)\n",
    "print(len(DECK))"
   ]
  },
  {
   "cell_type": "code",
   "execution_count": 357,
   "metadata": {},
   "outputs": [
    {
     "name": "stdout",
     "output_type": "stream",
     "text": [
      "[Card(10 of CLUBS, rank 7), Card(A of DIAMONDS, rank 11), Card(J of CLUBS, rank 8), Card(JOKER of WILD, rank 100), Card(5 of SPADES, rank 2), Card(Q of HEARTS, rank 9), Card(6 of HEARTS, rank 3), Card(10 of DIAMONDS, rank 7), Card(10 of HEARTS, rank 7), Card(K of HEARTS, rank 10), Card(4 of HEARTS, rank 1), Card(9 of DIAMONDS, rank 6), Card(8 of DIAMONDS, rank 5), Card(4 of DIAMONDS, rank 1), Card(10 of SPADES, rank 7), Card(7 of HEARTS, rank 4), Card(K of DIAMONDS, rank 10), Card(Q of CLUBS, rank 9), Card(9 of SPADES, rank 6), Card(6 of CLUBS, rank 3), Card(J of SPADES, rank 8), Card(K of CLUBS, rank 10), Card(5 of CLUBS, rank 2), Card(9 of HEARTS, rank 6), Card(9 of CLUBS, rank 6), Card(8 of CLUBS, rank 5), Card(7 of CLUBS, rank 4), Card(6 of DIAMONDS, rank 3), Card(A of CLUBS, rank 11), Card(7 of DIAMONDS, rank 4), Card(Q of DIAMONDS, rank 9), Card(J of DIAMONDS, rank 8), Card(5 of HEARTS, rank 2), Card(A of HEARTS, rank 11), Card(Q of SPADES, rank 9), Card(J of HEARTS, rank 8), Card(7 of SPADES, rank 4), Card(K of SPADES, rank 10), Card(A of SPADES, rank 11), Card(8 of HEARTS, rank 5), Card(5 of DIAMONDS, rank 2), Card(8 of SPADES, rank 5), Card(6 of SPADES, rank 3)]\n",
      "[[Card(6 of SPADES, rank 3), Card(8 of SPADES, rank 5), Card(5 of DIAMONDS, rank 2), Card(7 of DIAMONDS, rank 4), Card(A of CLUBS, rank 11), Card(6 of DIAMONDS, rank 3), Card(7 of CLUBS, rank 4), Card(8 of DIAMONDS, rank 5), Card(9 of DIAMONDS, rank 6), Card(4 of HEARTS, rank 1)], [Card(8 of HEARTS, rank 5), Card(A of SPADES, rank 11), Card(K of SPADES, rank 10), Card(8 of CLUBS, rank 5), Card(9 of CLUBS, rank 6), Card(9 of HEARTS, rank 6), Card(5 of CLUBS, rank 2), Card(K of HEARTS, rank 10), Card(10 of HEARTS, rank 7), Card(10 of DIAMONDS, rank 7)], [Card(7 of SPADES, rank 4), Card(J of HEARTS, rank 8), Card(Q of SPADES, rank 9), Card(K of CLUBS, rank 10), Card(J of SPADES, rank 8), Card(6 of CLUBS, rank 3), Card(9 of SPADES, rank 6), Card(6 of HEARTS, rank 3), Card(Q of HEARTS, rank 9), Card(5 of SPADES, rank 2)], [Card(A of HEARTS, rank 11), Card(5 of HEARTS, rank 2), Card(J of DIAMONDS, rank 8), Card(Q of CLUBS, rank 9), Card(K of DIAMONDS, rank 10), Card(7 of HEARTS, rank 4), Card(10 of SPADES, rank 7), Card(JOKER of WILD, rank 100), Card(J of CLUBS, rank 8), Card(A of DIAMONDS, rank 11)]]\n",
      "[Card(Q of DIAMONDS, rank 9), Card(4 of DIAMONDS, rank 1), Card(10 of CLUBS, rank 7)]\n",
      "[]\n"
     ]
    }
   ],
   "source": [
    "from random import shuffle, seed\n",
    "from copy import deepcopy\n",
    "\n",
    "SEED = 0\n",
    "\n",
    "seed(SEED)\n",
    "\n",
    "shuffled_deck = deepcopy(DECK)\n",
    "shuffle(shuffled_deck)\n",
    "\n",
    "print(shuffled_deck)\n",
    "\n",
    "kitty = []\n",
    "players_cards = [[] for _ in range(4)]\n",
    "\n",
    "for cards_to_be_dealt in [3, 4, 3]:\n",
    "    for player in players_cards:\n",
    "        player.extend([shuffled_deck.pop() for _ in range(cards_to_be_dealt)])\n",
    "    \n",
    "    kitty.append(shuffled_deck.pop())\n",
    "\n",
    "print(players_cards)\n",
    "print(kitty)\n",
    "print(shuffled_deck)"
   ]
  },
  {
   "cell_type": "code",
   "execution_count": 358,
   "metadata": {},
   "outputs": [],
   "source": [
    "NO_TRUMPS = 'NO TRUMPS'\n",
    "CLOSED_MISERE = 'CLOSED MISERE'\n",
    "OPEN_MISERE = 'OPEN MISERE'\n",
    "PASS = 'PASS'\n",
    "\n",
    "BID_SUITS = [SPADES, CLUBS, DIAMONDS, HEARTS, NO_TRUMPS]\n",
    "ALL_BID_SUITS = [PASS, SPADES, CLUBS, DIAMONDS, OPEN_MISERE, HEARTS, NO_TRUMPS, CLOSED_MISERE]\n",
    "BID_SUITS_RANKINGS = {suit: i for i, suit in enumerate(ALL_BID_SUITS)}\n",
    "\n",
    "class Bid:\n",
    "    def __init__(self, suit: str, tricks_to_win: int):\n",
    "        self.suit = suit\n",
    "        self.tricks_to_win = tricks_to_win\n",
    "    \n",
    "    def __repr__(self):\n",
    "        return f'Bid({self.tricks_to_win} {self.suit})'\n",
    "    \n",
    "    def __str__(self):\n",
    "        return f'{self.tricks_to_win} {self.suit}'\n",
    "    \n",
    "    def __lt__(self, other):\n",
    "        return (self.tricks_to_win, BID_SUITS_RANKINGS[self.suit]) < (other.tricks_to_win, BID_SUITS_RANKINGS[other.suit])\n",
    "\n",
    "    def __le__(self, other):\n",
    "        return (self.tricks_to_win, BID_SUITS_RANKINGS[self.suit]) <= (other.tricks_to_win, BID_SUITS_RANKINGS[other.suit])\n",
    "\n",
    "    def __gt__(self, other):\n",
    "        return (self.tricks_to_win, BID_SUITS_RANKINGS[self.suit]) > (other.tricks_to_win, BID_SUITS_RANKINGS[other.suit])\n",
    "\n",
    "    def __ge__(self, other):\n",
    "        return (self.tricks_to_win, BID_SUITS_RANKINGS[self.suit]) >= (other.tricks_to_win, BID_SUITS_RANKINGS[other.suit])\n",
    "\n",
    "    def __eq__(self, other):\n",
    "        return self.suit == other.suit and self.tricks_to_win == other.tricks_to_win\n",
    "\n",
    "    def __ne__(self, other):\n",
    "        return not self == other"
   ]
  },
  {
   "cell_type": "code",
   "execution_count": 359,
   "metadata": {},
   "outputs": [
    {
     "name": "stdout",
     "output_type": "stream",
     "text": [
      "bid 1, bid 2, bid1 < bid2, bid1 <= bid2, bid1 > bid2, bid1 >= bid2, bid1 == bid2, bid1 != bid2\n",
      "6 SPADES, 7 SPADES, True, True, False, False, False, True\n",
      "10 SPADES, 10 DIAMONDS, True, True, False, False, False, True\n",
      "7 NO TRUMPS, 7 CLOSED MISERE, True, True, False, False, False, True\n",
      "10 DIAMONDS, 10 OPEN MISERE, True, True, False, False, False, True\n",
      "10 NO TRUMPS, 10 DIAMONDS, False, False, True, True, False, True\n",
      "8 CLUBS, 8 CLUBS, False, True, False, True, True, False\n"
     ]
    }
   ],
   "source": [
    "tests_bid1 = [Bid(SPADES, 6), Bid(SPADES, 10), Bid(NO_TRUMPS, 7), Bid(DIAMONDS, 10), Bid(NO_TRUMPS, 10), Bid(CLUBS, 8)]\n",
    "tests_bid2 = [Bid(SPADES, 7), Bid(DIAMONDS, 10), Bid(CLOSED_MISERE, 7), Bid(OPEN_MISERE, 10), Bid(DIAMONDS, 10), Bid(CLUBS, 8)]\n",
    "\n",
    "print(\"bid 1, bid 2, bid1 < bid2, bid1 <= bid2, bid1 > bid2, bid1 >= bid2, bid1 == bid2, bid1 != bid2\")\n",
    "for bid1, bid2 in zip(tests_bid1, tests_bid2):\n",
    "    print(bid1, bid2, bid1 < bid2, bid1 <= bid2, bid1 > bid2, bid1 >= bid2, bid1 == bid2, bid1 != bid2, sep=', ')"
   ]
  },
  {
   "cell_type": "code",
   "execution_count": 360,
   "metadata": {},
   "outputs": [
    {
     "name": "stdout",
     "output_type": "stream",
     "text": [
      "[Bid(0 PASS), Bid(6 SPADES), Bid(6 CLUBS), Bid(6 DIAMONDS), Bid(6 HEARTS), Bid(6 NO TRUMPS), Bid(7 SPADES), Bid(7 CLUBS), Bid(7 DIAMONDS), Bid(7 HEARTS), Bid(7 NO TRUMPS), Bid(7 CLOSED MISERE), Bid(8 SPADES), Bid(8 CLUBS), Bid(8 DIAMONDS), Bid(8 HEARTS), Bid(8 NO TRUMPS), Bid(9 SPADES), Bid(9 CLUBS), Bid(9 DIAMONDS), Bid(9 HEARTS), Bid(9 NO TRUMPS), Bid(10 SPADES), Bid(10 CLUBS), Bid(10 DIAMONDS), Bid(10 OPEN MISERE), Bid(10 HEARTS), Bid(10 NO TRUMPS)]\n",
      "28\n"
     ]
    }
   ],
   "source": [
    "PASS_BID = Bid(PASS, 0)\n",
    "BIDS = [PASS_BID]\n",
    "\n",
    "for tricks_to_win in range(6, 11):\n",
    "    if tricks_to_win == 10:\n",
    "        BIDS.append(Bid(SPADES, tricks_to_win))\n",
    "        BIDS.append(Bid(CLUBS, tricks_to_win))\n",
    "        BIDS.append(Bid(DIAMONDS, tricks_to_win))\n",
    "        BIDS.append(Bid(OPEN_MISERE, tricks_to_win))\n",
    "        BIDS.append(Bid(HEARTS, tricks_to_win))\n",
    "        BIDS.append(Bid(NO_TRUMPS, tricks_to_win))\n",
    "        break\n",
    "    \n",
    "    BIDS.extend([Bid(suit, tricks_to_win) for suit in BID_SUITS])\n",
    "    \n",
    "    if tricks_to_win == 7:\n",
    "        BIDS.append(Bid(CLOSED_MISERE, tricks_to_win))\n",
    "\n",
    "print(BIDS)\n",
    "print(len(BIDS))"
   ]
  },
  {
   "cell_type": "code",
   "execution_count": 361,
   "metadata": {},
   "outputs": [],
   "source": [
    "from random import choice\n",
    "\n",
    "class Player:\n",
    "    def __init__(self, label: any, cards: List[Card], team: int = None, cards_played: List[Card] = [], last_bid: Bid = None, order: int = None,\n",
    "                 teammate: 'Player' = None, opposition_right: 'Player' = None, opposition_left: 'Player' = None):\n",
    "        self.label = label\n",
    "        self.cards = cards\n",
    "        self.team = team\n",
    "        self.cards_played = cards_played\n",
    "        self.last_bid = last_bid\n",
    "        self.order = order\n",
    "        self.teammate = teammate\n",
    "        self.opposition_right = opposition_right\n",
    "        self.opposition_left = opposition_left\n",
    "    \n",
    "    def sort_cards(self):\n",
    "        self.cards.sort(key=lambda card: (card.suit, card.rank))\n",
    "        \n",
    "    def make_bid(self, opposition_right_bid: Bid, partner_bid: Bid, opposition_left_bid: Bid, highest_bid: Bid):\n",
    "        bid_choices = [PASS_BID]\n",
    "        highest_bid_index = BIDS.index(highest_bid)\n",
    "        bid_choices.extend(BIDS[highest_bid_index + 1:])\n",
    "        bid = choice(bid_choices)\n",
    "        self.last_bid = bid\n",
    "        return bid\n",
    "    \n",
    "    def __repr__(self):\n",
    "        return f'Player({self.label}, {self.team}, {self.cards})'\n",
    "    \n",
    "    def __str__(self):\n",
    "        return f'{self.label}, {self.team}: {self.cards}'"
   ]
  },
  {
   "cell_type": "code",
   "execution_count": 362,
   "metadata": {},
   "outputs": [
    {
     "name": "stdout",
     "output_type": "stream",
     "text": [
      "[Player(QUEENSLAND, None, [Card(6 of SPADES, rank 3), Card(8 of SPADES, rank 5), Card(5 of DIAMONDS, rank 2), Card(7 of DIAMONDS, rank 4), Card(A of CLUBS, rank 11), Card(6 of DIAMONDS, rank 3), Card(7 of CLUBS, rank 4), Card(8 of DIAMONDS, rank 5), Card(9 of DIAMONDS, rank 6), Card(4 of HEARTS, rank 1)]), Player(NEW SOUTH WALES, None, [Card(8 of HEARTS, rank 5), Card(A of SPADES, rank 11), Card(K of SPADES, rank 10), Card(8 of CLUBS, rank 5), Card(9 of CLUBS, rank 6), Card(9 of HEARTS, rank 6), Card(5 of CLUBS, rank 2), Card(K of HEARTS, rank 10), Card(10 of HEARTS, rank 7), Card(10 of DIAMONDS, rank 7)]), Player(TASMANIA, None, [Card(7 of SPADES, rank 4), Card(J of HEARTS, rank 8), Card(Q of SPADES, rank 9), Card(K of CLUBS, rank 10), Card(J of SPADES, rank 8), Card(6 of CLUBS, rank 3), Card(9 of SPADES, rank 6), Card(6 of HEARTS, rank 3), Card(Q of HEARTS, rank 9), Card(5 of SPADES, rank 2)]), Player(VICTORIA, None, [Card(A of HEARTS, rank 11), Card(5 of HEARTS, rank 2), Card(J of DIAMONDS, rank 8), Card(Q of CLUBS, rank 9), Card(K of DIAMONDS, rank 10), Card(7 of HEARTS, rank 4), Card(10 of SPADES, rank 7), Card(JOKER of WILD, rank 100), Card(J of CLUBS, rank 8), Card(A of DIAMONDS, rank 11)])]\n"
     ]
    }
   ],
   "source": [
    "PLAYER_LABELS = ['QUEENSLAND', 'NEW SOUTH WALES', 'TASMANIA', 'VICTORIA']\n",
    "\n",
    "players = [Player(label, cards) for label, cards in zip(PLAYER_LABELS, players_cards)]\n",
    "print(players)"
   ]
  },
  {
   "cell_type": "code",
   "execution_count": 363,
   "metadata": {},
   "outputs": [
    {
     "name": "stdout",
     "output_type": "stream",
     "text": [
      "QUEENSLAND, None: [Card(7 of CLUBS, rank 4), Card(A of CLUBS, rank 11), Card(5 of DIAMONDS, rank 2), Card(6 of DIAMONDS, rank 3), Card(7 of DIAMONDS, rank 4), Card(8 of DIAMONDS, rank 5), Card(9 of DIAMONDS, rank 6), Card(4 of HEARTS, rank 1), Card(6 of SPADES, rank 3), Card(8 of SPADES, rank 5)]\n",
      "NEW SOUTH WALES, None: [Card(5 of CLUBS, rank 2), Card(8 of CLUBS, rank 5), Card(9 of CLUBS, rank 6), Card(10 of DIAMONDS, rank 7), Card(8 of HEARTS, rank 5), Card(9 of HEARTS, rank 6), Card(10 of HEARTS, rank 7), Card(K of HEARTS, rank 10), Card(K of SPADES, rank 10), Card(A of SPADES, rank 11)]\n",
      "TASMANIA, None: [Card(6 of CLUBS, rank 3), Card(K of CLUBS, rank 10), Card(6 of HEARTS, rank 3), Card(J of HEARTS, rank 8), Card(Q of HEARTS, rank 9), Card(5 of SPADES, rank 2), Card(7 of SPADES, rank 4), Card(9 of SPADES, rank 6), Card(J of SPADES, rank 8), Card(Q of SPADES, rank 9)]\n",
      "VICTORIA, None: [Card(J of CLUBS, rank 8), Card(Q of CLUBS, rank 9), Card(J of DIAMONDS, rank 8), Card(K of DIAMONDS, rank 10), Card(A of DIAMONDS, rank 11), Card(5 of HEARTS, rank 2), Card(7 of HEARTS, rank 4), Card(A of HEARTS, rank 11), Card(10 of SPADES, rank 7), Card(JOKER of WILD, rank 100)]\n"
     ]
    }
   ],
   "source": [
    "for player in players:\n",
    "    player.sort_cards()\n",
    "    print(player)"
   ]
  },
  {
   "cell_type": "code",
   "execution_count": 364,
   "metadata": {},
   "outputs": [
    {
     "name": "stdout",
     "output_type": "stream",
     "text": [
      "0 0 TASMANIA, 0: [Card(6 of CLUBS, rank 3), Card(K of CLUBS, rank 10), Card(6 of HEARTS, rank 3), Card(J of HEARTS, rank 8), Card(Q of HEARTS, rank 9), Card(5 of SPADES, rank 2), Card(7 of SPADES, rank 4), Card(9 of SPADES, rank 6), Card(J of SPADES, rank 8), Card(Q of SPADES, rank 9)] VICTORIA, 1: [Card(J of CLUBS, rank 8), Card(Q of CLUBS, rank 9), Card(J of DIAMONDS, rank 8), Card(K of DIAMONDS, rank 10), Card(A of DIAMONDS, rank 11), Card(5 of HEARTS, rank 2), Card(7 of HEARTS, rank 4), Card(A of HEARTS, rank 11), Card(10 of SPADES, rank 7), Card(JOKER of WILD, rank 100)] NEW SOUTH WALES, 1: [Card(5 of CLUBS, rank 2), Card(8 of CLUBS, rank 5), Card(9 of CLUBS, rank 6), Card(10 of DIAMONDS, rank 7), Card(8 of HEARTS, rank 5), Card(9 of HEARTS, rank 6), Card(10 of HEARTS, rank 7), Card(K of HEARTS, rank 10), Card(K of SPADES, rank 10), Card(A of SPADES, rank 11)]\n",
      "1 1 VICTORIA, 1: [Card(J of CLUBS, rank 8), Card(Q of CLUBS, rank 9), Card(J of DIAMONDS, rank 8), Card(K of DIAMONDS, rank 10), Card(A of DIAMONDS, rank 11), Card(5 of HEARTS, rank 2), Card(7 of HEARTS, rank 4), Card(A of HEARTS, rank 11), Card(10 of SPADES, rank 7), Card(JOKER of WILD, rank 100)] QUEENSLAND, 0: [Card(7 of CLUBS, rank 4), Card(A of CLUBS, rank 11), Card(5 of DIAMONDS, rank 2), Card(6 of DIAMONDS, rank 3), Card(7 of DIAMONDS, rank 4), Card(8 of DIAMONDS, rank 5), Card(9 of DIAMONDS, rank 6), Card(4 of HEARTS, rank 1), Card(6 of SPADES, rank 3), Card(8 of SPADES, rank 5)] TASMANIA, 0: [Card(6 of CLUBS, rank 3), Card(K of CLUBS, rank 10), Card(6 of HEARTS, rank 3), Card(J of HEARTS, rank 8), Card(Q of HEARTS, rank 9), Card(5 of SPADES, rank 2), Card(7 of SPADES, rank 4), Card(9 of SPADES, rank 6), Card(J of SPADES, rank 8), Card(Q of SPADES, rank 9)]\n",
      "0 2 QUEENSLAND, 0: [Card(7 of CLUBS, rank 4), Card(A of CLUBS, rank 11), Card(5 of DIAMONDS, rank 2), Card(6 of DIAMONDS, rank 3), Card(7 of DIAMONDS, rank 4), Card(8 of DIAMONDS, rank 5), Card(9 of DIAMONDS, rank 6), Card(4 of HEARTS, rank 1), Card(6 of SPADES, rank 3), Card(8 of SPADES, rank 5)] NEW SOUTH WALES, 1: [Card(5 of CLUBS, rank 2), Card(8 of CLUBS, rank 5), Card(9 of CLUBS, rank 6), Card(10 of DIAMONDS, rank 7), Card(8 of HEARTS, rank 5), Card(9 of HEARTS, rank 6), Card(10 of HEARTS, rank 7), Card(K of HEARTS, rank 10), Card(K of SPADES, rank 10), Card(A of SPADES, rank 11)] VICTORIA, 1: [Card(J of CLUBS, rank 8), Card(Q of CLUBS, rank 9), Card(J of DIAMONDS, rank 8), Card(K of DIAMONDS, rank 10), Card(A of DIAMONDS, rank 11), Card(5 of HEARTS, rank 2), Card(7 of HEARTS, rank 4), Card(A of HEARTS, rank 11), Card(10 of SPADES, rank 7), Card(JOKER of WILD, rank 100)]\n",
      "1 3 NEW SOUTH WALES, 1: [Card(5 of CLUBS, rank 2), Card(8 of CLUBS, rank 5), Card(9 of CLUBS, rank 6), Card(10 of DIAMONDS, rank 7), Card(8 of HEARTS, rank 5), Card(9 of HEARTS, rank 6), Card(10 of HEARTS, rank 7), Card(K of HEARTS, rank 10), Card(K of SPADES, rank 10), Card(A of SPADES, rank 11)] TASMANIA, 0: [Card(6 of CLUBS, rank 3), Card(K of CLUBS, rank 10), Card(6 of HEARTS, rank 3), Card(J of HEARTS, rank 8), Card(Q of HEARTS, rank 9), Card(5 of SPADES, rank 2), Card(7 of SPADES, rank 4), Card(9 of SPADES, rank 6), Card(J of SPADES, rank 8), Card(Q of SPADES, rank 9)] QUEENSLAND, 0: [Card(7 of CLUBS, rank 4), Card(A of CLUBS, rank 11), Card(5 of DIAMONDS, rank 2), Card(6 of DIAMONDS, rank 3), Card(7 of DIAMONDS, rank 4), Card(8 of DIAMONDS, rank 5), Card(9 of DIAMONDS, rank 6), Card(4 of HEARTS, rank 1), Card(6 of SPADES, rank 3), Card(8 of SPADES, rank 5)]\n"
     ]
    }
   ],
   "source": [
    "players[0].team = 0\n",
    "players[1].team = 1\n",
    "players[2].team = 0\n",
    "players[3].team = 1\n",
    "\n",
    "players[0].order = 0\n",
    "players[1].order = 1\n",
    "players[2].order = 2\n",
    "players[3].order = 3\n",
    "\n",
    "players[0].teammate = players[2]\n",
    "players[1].teammate = players[3]\n",
    "players[2].teammate = players[0]\n",
    "players[3].teammate = players[1]\n",
    "\n",
    "players[0].opposition_right = players[3]\n",
    "players[0].opposition_left = players[1]\n",
    "\n",
    "players[2].opposition_right = players[1]\n",
    "players[2].opposition_left = players[3]\n",
    "\n",
    "players[1].opposition_right = players[0]\n",
    "players[1].opposition_left = players[2]\n",
    "\n",
    "players[3].opposition_right = players[2]\n",
    "players[3].opposition_left = players[0]\n",
    "\n",
    "for player in players:\n",
    "    print(player.team, player.order, player.teammate, player.opposition_right, player.opposition_left)"
   ]
  },
  {
   "cell_type": "code",
   "execution_count": 365,
   "metadata": {},
   "outputs": [
    {
     "ename": "TypeError",
     "evalue": "make_bid() got an unexpected keyword argument 'opposition_right_bid_index'",
     "output_type": "error",
     "traceback": [
      "\u001b[1;31m---------------------------------------------------------------------------\u001b[0m",
      "\u001b[1;31mTypeError\u001b[0m                                 Traceback (most recent call last)",
      "\u001b[1;32m~\\AppData\\Local\\Temp\\ipykernel_8312\\1503580685.py\u001b[0m in \u001b[0;36m<module>\u001b[1;34m\u001b[0m\n\u001b[0;32m     17\u001b[0m     \u001b[0mpartner_bid_index\u001b[0m\u001b[1;33m=\u001b[0m\u001b[0mlast_bids\u001b[0m\u001b[1;33m[\u001b[0m\u001b[1;36m2\u001b[0m\u001b[1;33m]\u001b[0m\u001b[1;33m,\u001b[0m\u001b[1;33m\u001b[0m\u001b[1;33m\u001b[0m\u001b[0m\n\u001b[0;32m     18\u001b[0m     \u001b[0mopposition_left_bid_index\u001b[0m\u001b[1;33m=\u001b[0m\u001b[0mlast_bids\u001b[0m\u001b[1;33m[\u001b[0m\u001b[1;36m3\u001b[0m\u001b[1;33m]\u001b[0m\u001b[1;33m,\u001b[0m\u001b[1;33m\u001b[0m\u001b[1;33m\u001b[0m\u001b[0m\n\u001b[1;32m---> 19\u001b[1;33m     \u001b[0mhighest_bid_index\u001b[0m\u001b[1;33m=\u001b[0m\u001b[0mhighest_bid\u001b[0m\u001b[1;33m\u001b[0m\u001b[1;33m\u001b[0m\u001b[0m\n\u001b[0m\u001b[0;32m     20\u001b[0m )\n\u001b[0;32m     21\u001b[0m \u001b[1;33m\u001b[0m\u001b[0m\n",
      "\u001b[1;31mTypeError\u001b[0m: make_bid() got an unexpected keyword argument 'opposition_right_bid_index'"
     ]
    }
   ],
   "source": [
    "from collections import deque\n",
    "\n",
    "players_bidding = deque(players)\n",
    "\n",
    "last_bids = deque([-1] * 4)\n",
    "highest_bid = 0\n",
    "\n",
    "highest_bid_counter = 0\n",
    "\n",
    "SEED = 0\n",
    "seed(SEED)\n",
    "\n",
    "player = players_bidding[0]\n",
    "\n",
    "bid = player.make_bid(\n",
    "    opposition_right_bid_index=last_bids[1],\n",
    "    partner_bid_index=last_bids[2],\n",
    "    opposition_left_bid_index=last_bids[3],\n",
    "    highest_bid_index=highest_bid\n",
    ")\n",
    "\n",
    "print(last_bids)"
   ]
  }
 ],
 "metadata": {
  "kernelspec": {
   "display_name": "500bot",
   "language": "python",
   "name": "python3"
  },
  "language_info": {
   "codemirror_mode": {
    "name": "ipython",
    "version": 3
   },
   "file_extension": ".py",
   "mimetype": "text/x-python",
   "name": "python",
   "nbconvert_exporter": "python",
   "pygments_lexer": "ipython3",
   "version": "3.7.12"
  }
 },
 "nbformat": 4,
 "nbformat_minor": 2
}
