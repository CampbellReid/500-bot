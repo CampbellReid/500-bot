{
 "cells": [
  {
   "cell_type": "code",
   "execution_count": 101,
   "metadata": {},
   "outputs": [],
   "source": [
    "from typing import List\n",
    "\n",
    "class Card:\n",
    "    def __init__(self, suit: str, label: any, rank: int):\n",
    "        self.suit = suit\n",
    "        self.label = label\n",
    "        self.rank = rank\n",
    "    \n",
    "    def __repr__(self):\n",
    "        return f'Card({self.label} of {self.suit}, rank {self.rank})'\n",
    "    \n",
    "    def __str__(self):\n",
    "        return f'{self.label} of {self.suit}, rank {self.rank}'"
   ]
  },
  {
   "cell_type": "code",
   "execution_count": 102,
   "metadata": {},
   "outputs": [
    {
     "name": "stdout",
     "output_type": "stream",
     "text": [
      "[Card(JOKER of WILD, rank 100), Card(4 of DIAMONDS, rank 1), Card(5 of DIAMONDS, rank 2), Card(6 of DIAMONDS, rank 3), Card(7 of DIAMONDS, rank 4), Card(8 of DIAMONDS, rank 5), Card(9 of DIAMONDS, rank 6), Card(10 of DIAMONDS, rank 7), Card(J of DIAMONDS, rank 8), Card(Q of DIAMONDS, rank 9), Card(K of DIAMONDS, rank 10), Card(A of DIAMONDS, rank 11), Card(4 of HEARTS, rank 1), Card(5 of HEARTS, rank 2), Card(6 of HEARTS, rank 3), Card(7 of HEARTS, rank 4), Card(8 of HEARTS, rank 5), Card(9 of HEARTS, rank 6), Card(10 of HEARTS, rank 7), Card(J of HEARTS, rank 8), Card(Q of HEARTS, rank 9), Card(K of HEARTS, rank 10), Card(A of HEARTS, rank 11), Card(5 of SPADES, rank 2), Card(6 of SPADES, rank 3), Card(7 of SPADES, rank 4), Card(8 of SPADES, rank 5), Card(9 of SPADES, rank 6), Card(10 of SPADES, rank 7), Card(J of SPADES, rank 8), Card(Q of SPADES, rank 9), Card(K of SPADES, rank 10), Card(A of SPADES, rank 11), Card(5 of CLUBS, rank 2), Card(6 of CLUBS, rank 3), Card(7 of CLUBS, rank 4), Card(8 of CLUBS, rank 5), Card(9 of CLUBS, rank 6), Card(10 of CLUBS, rank 7), Card(J of CLUBS, rank 8), Card(Q of CLUBS, rank 9), Card(K of CLUBS, rank 10), Card(A of CLUBS, rank 11)]\n",
      "43\n"
     ]
    }
   ],
   "source": [
    "DIAMONDS = 'DIAMONDS'\n",
    "HEARTS = 'HEARTS'\n",
    "SPADES = 'SPADES'\n",
    "CLUBS = 'CLUBS'\n",
    "WILD = 'WILD'\n",
    "\n",
    "RED_SUITS = [DIAMONDS, HEARTS]\n",
    "BLACK_SUITS = [SPADES, CLUBS]\n",
    "\n",
    "JOKER = 'JOKER'\n",
    "\n",
    "DECK = [Card(WILD, JOKER, 100)]\n",
    "\n",
    "SUIT_LABELS = list(range(4, 11)) + ['J', 'Q', 'K', 'A']\n",
    "SUIT_RANKS = list(range(1, len(SUIT_LABELS) + 1))\n",
    "\n",
    "for suit in [DIAMONDS, HEARTS, SPADES, CLUBS]:\n",
    "    for label, rank in zip(SUIT_LABELS, SUIT_RANKS):\n",
    "        if label == 4 and suit in BLACK_SUITS:\n",
    "            continue\n",
    "        \n",
    "        DECK.append(Card(suit, label, rank))\n",
    "\n",
    "print(DECK)\n",
    "print(len(DECK))"
   ]
  },
  {
   "cell_type": "code",
   "execution_count": 103,
   "metadata": {},
   "outputs": [
    {
     "name": "stdout",
     "output_type": "stream",
     "text": [
      "[Card(10 of CLUBS, rank 7), Card(A of DIAMONDS, rank 11), Card(J of CLUBS, rank 8), Card(JOKER of WILD, rank 100), Card(5 of SPADES, rank 2), Card(Q of HEARTS, rank 9), Card(6 of HEARTS, rank 3), Card(10 of DIAMONDS, rank 7), Card(10 of HEARTS, rank 7), Card(K of HEARTS, rank 10), Card(4 of HEARTS, rank 1), Card(9 of DIAMONDS, rank 6), Card(8 of DIAMONDS, rank 5), Card(4 of DIAMONDS, rank 1), Card(10 of SPADES, rank 7), Card(7 of HEARTS, rank 4), Card(K of DIAMONDS, rank 10), Card(Q of CLUBS, rank 9), Card(9 of SPADES, rank 6), Card(6 of CLUBS, rank 3), Card(J of SPADES, rank 8), Card(K of CLUBS, rank 10), Card(5 of CLUBS, rank 2), Card(9 of HEARTS, rank 6), Card(9 of CLUBS, rank 6), Card(8 of CLUBS, rank 5), Card(7 of CLUBS, rank 4), Card(6 of DIAMONDS, rank 3), Card(A of CLUBS, rank 11), Card(7 of DIAMONDS, rank 4), Card(Q of DIAMONDS, rank 9), Card(J of DIAMONDS, rank 8), Card(5 of HEARTS, rank 2), Card(A of HEARTS, rank 11), Card(Q of SPADES, rank 9), Card(J of HEARTS, rank 8), Card(7 of SPADES, rank 4), Card(K of SPADES, rank 10), Card(A of SPADES, rank 11), Card(8 of HEARTS, rank 5), Card(5 of DIAMONDS, rank 2), Card(8 of SPADES, rank 5), Card(6 of SPADES, rank 3)]\n",
      "[[Card(6 of SPADES, rank 3), Card(8 of SPADES, rank 5), Card(5 of DIAMONDS, rank 2), Card(7 of DIAMONDS, rank 4), Card(A of CLUBS, rank 11), Card(6 of DIAMONDS, rank 3), Card(7 of CLUBS, rank 4), Card(8 of DIAMONDS, rank 5), Card(9 of DIAMONDS, rank 6), Card(4 of HEARTS, rank 1)], [Card(8 of HEARTS, rank 5), Card(A of SPADES, rank 11), Card(K of SPADES, rank 10), Card(8 of CLUBS, rank 5), Card(9 of CLUBS, rank 6), Card(9 of HEARTS, rank 6), Card(5 of CLUBS, rank 2), Card(K of HEARTS, rank 10), Card(10 of HEARTS, rank 7), Card(10 of DIAMONDS, rank 7)], [Card(7 of SPADES, rank 4), Card(J of HEARTS, rank 8), Card(Q of SPADES, rank 9), Card(K of CLUBS, rank 10), Card(J of SPADES, rank 8), Card(6 of CLUBS, rank 3), Card(9 of SPADES, rank 6), Card(6 of HEARTS, rank 3), Card(Q of HEARTS, rank 9), Card(5 of SPADES, rank 2)], [Card(A of HEARTS, rank 11), Card(5 of HEARTS, rank 2), Card(J of DIAMONDS, rank 8), Card(Q of CLUBS, rank 9), Card(K of DIAMONDS, rank 10), Card(7 of HEARTS, rank 4), Card(10 of SPADES, rank 7), Card(JOKER of WILD, rank 100), Card(J of CLUBS, rank 8), Card(A of DIAMONDS, rank 11)]]\n",
      "[Card(Q of DIAMONDS, rank 9), Card(4 of DIAMONDS, rank 1), Card(10 of CLUBS, rank 7)]\n",
      "[]\n"
     ]
    }
   ],
   "source": [
    "from random import shuffle, seed\n",
    "from copy import deepcopy\n",
    "\n",
    "SEED = 0\n",
    "\n",
    "seed(SEED)\n",
    "\n",
    "shuffled_deck = deepcopy(DECK)\n",
    "shuffle(shuffled_deck)\n",
    "\n",
    "print(shuffled_deck)\n",
    "\n",
    "kitty = []\n",
    "players_cards = [[] for _ in range(4)]\n",
    "\n",
    "for cards_to_be_dealt in [3, 4, 3]:\n",
    "    for player in players_cards:\n",
    "        player.extend([shuffled_deck.pop() for _ in range(cards_to_be_dealt)])\n",
    "    \n",
    "    kitty.append(shuffled_deck.pop())\n",
    "\n",
    "print(players_cards)\n",
    "print(kitty)\n",
    "print(shuffled_deck)"
   ]
  },
  {
   "cell_type": "code",
   "execution_count": 111,
   "metadata": {},
   "outputs": [],
   "source": [
    "class Player:\n",
    "    def __init__(self, label: any, cards: List[Card], team: int = None):\n",
    "        self.label = label\n",
    "        self.cards = cards\n",
    "        self.team = team\n",
    "    \n",
    "    def sort_cards(self):\n",
    "        self.cards.sort(key=lambda card: (card.suit, card.rank))\n",
    "        \n",
    "    def set_team(self, team: int):\n",
    "        self.team = team\n",
    "    \n",
    "    def __repr__(self):\n",
    "        return f'Player({self.label}, {self.team}, {self.cards})'\n",
    "    \n",
    "    def __str__(self):\n",
    "        return f'{self.label}, {self.team}: {self.cards}'"
   ]
  },
  {
   "cell_type": "code",
   "execution_count": 118,
   "metadata": {},
   "outputs": [
    {
     "name": "stdout",
     "output_type": "stream",
     "text": [
      "[Player(NORTH, None, [Card(7 of CLUBS, rank 4), Card(A of CLUBS, rank 11), Card(5 of DIAMONDS, rank 2), Card(6 of DIAMONDS, rank 3), Card(7 of DIAMONDS, rank 4), Card(8 of DIAMONDS, rank 5), Card(9 of DIAMONDS, rank 6), Card(4 of HEARTS, rank 1), Card(6 of SPADES, rank 3), Card(8 of SPADES, rank 5)]), Player(EAST, None, [Card(5 of CLUBS, rank 2), Card(8 of CLUBS, rank 5), Card(9 of CLUBS, rank 6), Card(10 of DIAMONDS, rank 7), Card(8 of HEARTS, rank 5), Card(9 of HEARTS, rank 6), Card(10 of HEARTS, rank 7), Card(K of HEARTS, rank 10), Card(K of SPADES, rank 10), Card(A of SPADES, rank 11)]), Player(SOUTH, None, [Card(6 of CLUBS, rank 3), Card(K of CLUBS, rank 10), Card(6 of HEARTS, rank 3), Card(J of HEARTS, rank 8), Card(Q of HEARTS, rank 9), Card(5 of SPADES, rank 2), Card(7 of SPADES, rank 4), Card(9 of SPADES, rank 6), Card(J of SPADES, rank 8), Card(Q of SPADES, rank 9)]), Player(WEST, None, [Card(J of CLUBS, rank 8), Card(Q of CLUBS, rank 9), Card(J of DIAMONDS, rank 8), Card(K of DIAMONDS, rank 10), Card(A of DIAMONDS, rank 11), Card(5 of HEARTS, rank 2), Card(7 of HEARTS, rank 4), Card(A of HEARTS, rank 11), Card(10 of SPADES, rank 7), Card(JOKER of WILD, rank 100)])]\n"
     ]
    }
   ],
   "source": [
    "PLAYER_LABELS = ['NORTH', 'EAST', 'SOUTH', 'WEST']\n",
    "\n",
    "players = [Player(label, cards) for label, cards in zip(PLAYER_LABELS, players_cards)]\n",
    "print(players)"
   ]
  },
  {
   "cell_type": "code",
   "execution_count": 119,
   "metadata": {},
   "outputs": [
    {
     "name": "stdout",
     "output_type": "stream",
     "text": [
      "NORTH, None: [Card(7 of CLUBS, rank 4), Card(A of CLUBS, rank 11), Card(5 of DIAMONDS, rank 2), Card(6 of DIAMONDS, rank 3), Card(7 of DIAMONDS, rank 4), Card(8 of DIAMONDS, rank 5), Card(9 of DIAMONDS, rank 6), Card(4 of HEARTS, rank 1), Card(6 of SPADES, rank 3), Card(8 of SPADES, rank 5)]\n",
      "EAST, None: [Card(5 of CLUBS, rank 2), Card(8 of CLUBS, rank 5), Card(9 of CLUBS, rank 6), Card(10 of DIAMONDS, rank 7), Card(8 of HEARTS, rank 5), Card(9 of HEARTS, rank 6), Card(10 of HEARTS, rank 7), Card(K of HEARTS, rank 10), Card(K of SPADES, rank 10), Card(A of SPADES, rank 11)]\n",
      "SOUTH, None: [Card(6 of CLUBS, rank 3), Card(K of CLUBS, rank 10), Card(6 of HEARTS, rank 3), Card(J of HEARTS, rank 8), Card(Q of HEARTS, rank 9), Card(5 of SPADES, rank 2), Card(7 of SPADES, rank 4), Card(9 of SPADES, rank 6), Card(J of SPADES, rank 8), Card(Q of SPADES, rank 9)]\n",
      "WEST, None: [Card(J of CLUBS, rank 8), Card(Q of CLUBS, rank 9), Card(J of DIAMONDS, rank 8), Card(K of DIAMONDS, rank 10), Card(A of DIAMONDS, rank 11), Card(5 of HEARTS, rank 2), Card(7 of HEARTS, rank 4), Card(A of HEARTS, rank 11), Card(10 of SPADES, rank 7), Card(JOKER of WILD, rank 100)]\n"
     ]
    }
   ],
   "source": [
    "for player in players:\n",
    "    player.sort_cards()\n",
    "    print(player)"
   ]
  },
  {
   "cell_type": "code",
   "execution_count": 120,
   "metadata": {},
   "outputs": [
    {
     "name": "stdout",
     "output_type": "stream",
     "text": [
      "bid 1, bid 2, bid1 < bid2, bid1 <= bid2, bid1 > bid2, bid1 >= bid2, bid1 == bid2, bid1 != bid2\n",
      "6 SPADES, 7 SPADES, True, True, False, False, False, True\n",
      "10 SPADES, 10 DIAMONDS, True, True, False, False, False, True\n",
      "7 NO TRUMPS, 7 CLOSED MISERE, True, True, False, False, False, True\n",
      "10 DIAMONDS, 10 OPEN MISERE, True, True, False, False, False, True\n",
      "10 NO TRUMPS, 10 DIAMONDS, False, False, True, True, False, True\n",
      "8 CLUBS, 8 CLUBS, False, True, False, True, True, False\n"
     ]
    }
   ],
   "source": [
    "NO_TRUMPS = 'NO TRUMPS'\n",
    "CLOSED_MISERE = 'CLOSED MISERE'\n",
    "OPEN_MISERE = 'OPEN MISERE'\n",
    "PASS = 'PASS'\n",
    "\n",
    "BID_SUITS = [SPADES, CLUBS, DIAMONDS, HEARTS, NO_TRUMPS]\n",
    "ALL_BID_SUITS = [PASS, SPADES, CLUBS, DIAMONDS, OPEN_MISERE, HEARTS, NO_TRUMPS, CLOSED_MISERE]\n",
    "BID_SUITS_RANKINGS = {suit: i for i, suit in enumerate(ALL_BID_SUITS)}\n",
    "\n",
    "class Bid:\n",
    "    def __init__(self, suit: str, tricks_to_win: int):\n",
    "        self.suit = suit\n",
    "        self.tricks_to_win = tricks_to_win\n",
    "    \n",
    "    def __repr__(self):\n",
    "        return f'Bid({self.tricks_to_win} {self.suit})'\n",
    "    \n",
    "    def __str__(self):\n",
    "        return f'{self.tricks_to_win} {self.suit}'\n",
    "    \n",
    "    def __lt__(self, other):\n",
    "        return (self.tricks_to_win, BID_SUITS_RANKINGS[self.suit]) < (other.tricks_to_win, BID_SUITS_RANKINGS[other.suit])\n",
    "\n",
    "    def __le__(self, other):\n",
    "        return (self.tricks_to_win, BID_SUITS_RANKINGS[self.suit]) <= (other.tricks_to_win, BID_SUITS_RANKINGS[other.suit])\n",
    "\n",
    "    def __gt__(self, other):\n",
    "        return (self.tricks_to_win, BID_SUITS_RANKINGS[self.suit]) > (other.tricks_to_win, BID_SUITS_RANKINGS[other.suit])\n",
    "\n",
    "    def __ge__(self, other):\n",
    "        return (self.tricks_to_win, BID_SUITS_RANKINGS[self.suit]) >= (other.tricks_to_win, BID_SUITS_RANKINGS[other.suit])\n",
    "\n",
    "    def __eq__(self, other):\n",
    "        return self.suit == other.suit and self.tricks_to_win == other.tricks_to_win\n",
    "\n",
    "    def __ne__(self, other):\n",
    "        return not self == other\n",
    "\n",
    "tests_bid1 = [Bid(SPADES, 6), Bid(SPADES, 10), Bid(NO_TRUMPS, 7), Bid(DIAMONDS, 10), Bid(NO_TRUMPS, 10), Bid(CLUBS, 8)]\n",
    "tests_bid2 = [Bid(SPADES, 7), Bid(DIAMONDS, 10), Bid(CLOSED_MISERE, 7), Bid(OPEN_MISERE, 10), Bid(DIAMONDS, 10), Bid(CLUBS, 8)]\n",
    "\n",
    "print(\"bid 1, bid 2, bid1 < bid2, bid1 <= bid2, bid1 > bid2, bid1 >= bid2, bid1 == bid2, bid1 != bid2\")\n",
    "for bid1, bid2 in zip(tests_bid1, tests_bid2):\n",
    "    print(bid1, bid2, bid1 < bid2, bid1 <= bid2, bid1 > bid2, bid1 >= bid2, bid1 == bid2, bid1 != bid2, sep=', ')"
   ]
  },
  {
   "cell_type": "code",
   "execution_count": 125,
   "metadata": {},
   "outputs": [
    {
     "name": "stdout",
     "output_type": "stream",
     "text": [
      "[Bid(0 PASS), Bid(6 SPADES), Bid(6 CLUBS), Bid(6 DIAMONDS), Bid(6 HEARTS), Bid(6 NO TRUMPS), Bid(7 SPADES), Bid(7 CLUBS), Bid(7 DIAMONDS), Bid(7 HEARTS), Bid(7 NO TRUMPS), Bid(7 CLOSED MISERE), Bid(8 SPADES), Bid(8 CLUBS), Bid(8 DIAMONDS), Bid(8 HEARTS), Bid(8 NO TRUMPS), Bid(9 SPADES), Bid(9 CLUBS), Bid(9 DIAMONDS), Bid(9 HEARTS), Bid(9 NO TRUMPS), Bid(10 SPADES), Bid(10 CLUBS), Bid(10 DIAMONDS), Bid(10 OPEN MISERE), Bid(10 HEARTS), Bid(10 NO TRUMPS)]\n",
      "28\n"
     ]
    }
   ],
   "source": [
    "BIDS = [Bid(PASS, 0)]\n",
    "\n",
    "for tricks_to_win in range(6, 11):\n",
    "    if tricks_to_win == 10:\n",
    "        BIDS.append(Bid(SPADES, tricks_to_win))\n",
    "        BIDS.append(Bid(CLUBS, tricks_to_win))\n",
    "        BIDS.append(Bid(DIAMONDS, tricks_to_win))\n",
    "        BIDS.append(Bid(OPEN_MISERE, tricks_to_win))\n",
    "        BIDS.append(Bid(HEARTS, tricks_to_win))\n",
    "        BIDS.append(Bid(NO_TRUMPS, tricks_to_win))\n",
    "        break\n",
    "    \n",
    "    BIDS.extend([Bid(suit, tricks_to_win) for suit in BID_SUITS])\n",
    "    \n",
    "    if tricks_to_win == 7:\n",
    "        BIDS.append(Bid(CLOSED_MISERE, tricks_to_win))\n",
    "\n",
    "print(BIDS)\n",
    "print(len(BIDS))"
   ]
  },
  {
   "cell_type": "code",
   "execution_count": 124,
   "metadata": {},
   "outputs": [
    {
     "name": "stdout",
     "output_type": "stream",
     "text": [
      "[Player(NORTH, 0, [Card(7 of CLUBS, rank 4), Card(A of CLUBS, rank 11), Card(5 of DIAMONDS, rank 2), Card(6 of DIAMONDS, rank 3), Card(7 of DIAMONDS, rank 4), Card(8 of DIAMONDS, rank 5), Card(9 of DIAMONDS, rank 6), Card(4 of HEARTS, rank 1), Card(6 of SPADES, rank 3), Card(8 of SPADES, rank 5)]), Player(EAST, 1, [Card(5 of CLUBS, rank 2), Card(8 of CLUBS, rank 5), Card(9 of CLUBS, rank 6), Card(10 of DIAMONDS, rank 7), Card(8 of HEARTS, rank 5), Card(9 of HEARTS, rank 6), Card(10 of HEARTS, rank 7), Card(K of HEARTS, rank 10), Card(K of SPADES, rank 10), Card(A of SPADES, rank 11)]), Player(SOUTH, 0, [Card(6 of CLUBS, rank 3), Card(K of CLUBS, rank 10), Card(6 of HEARTS, rank 3), Card(J of HEARTS, rank 8), Card(Q of HEARTS, rank 9), Card(5 of SPADES, rank 2), Card(7 of SPADES, rank 4), Card(9 of SPADES, rank 6), Card(J of SPADES, rank 8), Card(Q of SPADES, rank 9)]), Player(WEST, 1, [Card(J of CLUBS, rank 8), Card(Q of CLUBS, rank 9), Card(J of DIAMONDS, rank 8), Card(K of DIAMONDS, rank 10), Card(A of DIAMONDS, rank 11), Card(5 of HEARTS, rank 2), Card(7 of HEARTS, rank 4), Card(A of HEARTS, rank 11), Card(10 of SPADES, rank 7), Card(JOKER of WILD, rank 100)])]\n"
     ]
    }
   ],
   "source": [
    "team_0 = [players[0], players[2]]\n",
    "team_1 = [players[1], players[3]]\n",
    "\n",
    "players[0].set_team(0)\n",
    "players[1].set_team(1)\n",
    "players[2].set_team(0)\n",
    "players[3].set_team(1)\n",
    "\n",
    "players_bidding = players.copy()\n",
    "\n",
    "bidding_finished = False\n",
    "\n",
    "last_bidder = None\n",
    "last_bid = None\n",
    "\n",
    "team_0_last_bid = None\n",
    "team_1_last_bid = None\n",
    "\n",
    "print(players_bidding)"
   ]
  }
 ],
 "metadata": {
  "kernelspec": {
   "display_name": "500bot",
   "language": "python",
   "name": "python3"
  },
  "language_info": {
   "codemirror_mode": {
    "name": "ipython",
    "version": 3
   },
   "file_extension": ".py",
   "mimetype": "text/x-python",
   "name": "python",
   "nbconvert_exporter": "python",
   "pygments_lexer": "ipython3",
   "version": "3.7.12"
  }
 },
 "nbformat": 4,
 "nbformat_minor": 2
}
