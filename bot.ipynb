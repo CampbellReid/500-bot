{
 "cells": [
  {
   "cell_type": "code",
   "execution_count": 21,
   "metadata": {},
   "outputs": [],
   "source": [
    "from typing import List\n",
    "\n",
    "class Card:\n",
    "    def __init__(self, suit: str, label: any, rank: int):\n",
    "        self.suit = suit\n",
    "        self.label = label\n",
    "        self.rank = rank\n",
    "    \n",
    "    def __repr__(self):\n",
    "        return f'Card({self.label} of {self.suit}, rank {self.rank})'\n",
    "    \n",
    "    def __str__(self):\n",
    "        return f'{self.label} of {self.suit}, rank {self.rank}'\n",
    "\n",
    "class Player:\n",
    "    def __init__(self, cards: List[Card]):\n",
    "        self.cards = cards"
   ]
  },
  {
   "cell_type": "code",
   "execution_count": 22,
   "metadata": {},
   "outputs": [
    {
     "name": "stdout",
     "output_type": "stream",
     "text": [
      "[Card(JOKER of wild, rank 100), Card(4 of diamonds, rank 1), Card(5 of diamonds, rank 2), Card(6 of diamonds, rank 3), Card(7 of diamonds, rank 4), Card(8 of diamonds, rank 5), Card(9 of diamonds, rank 6), Card(10 of diamonds, rank 7), Card(J of diamonds, rank 8), Card(Q of diamonds, rank 9), Card(K of diamonds, rank 10), Card(A of diamonds, rank 11), Card(4 of hearts, rank 1), Card(5 of hearts, rank 2), Card(6 of hearts, rank 3), Card(7 of hearts, rank 4), Card(8 of hearts, rank 5), Card(9 of hearts, rank 6), Card(10 of hearts, rank 7), Card(J of hearts, rank 8), Card(Q of hearts, rank 9), Card(K of hearts, rank 10), Card(A of hearts, rank 11), Card(5 of spades, rank 2), Card(6 of spades, rank 3), Card(7 of spades, rank 4), Card(8 of spades, rank 5), Card(9 of spades, rank 6), Card(10 of spades, rank 7), Card(J of spades, rank 8), Card(Q of spades, rank 9), Card(K of spades, rank 10), Card(A of spades, rank 11), Card(5 of clubs, rank 2), Card(6 of clubs, rank 3), Card(7 of clubs, rank 4), Card(8 of clubs, rank 5), Card(9 of clubs, rank 6), Card(10 of clubs, rank 7), Card(J of clubs, rank 8), Card(Q of clubs, rank 9), Card(K of clubs, rank 10), Card(A of clubs, rank 11)]\n",
      "43\n"
     ]
    }
   ],
   "source": [
    "DIAMONDS = 'diamonds'\n",
    "HEARTS = 'hearts'\n",
    "SPADES = 'spades'\n",
    "CLUBS = 'clubs'\n",
    "WILD = 'wild'\n",
    "\n",
    "RED_SUITS = [DIAMONDS, HEARTS]\n",
    "BLACK_SUITS = [SPADES, CLUBS]\n",
    "\n",
    "JOKER = 'JOKER'\n",
    "\n",
    "DECK = [Card(WILD, JOKER, 100)]\n",
    "\n",
    "SUIT_LABELS = list(range(4, 11)) + ['J', 'Q', 'K', 'A']\n",
    "SUIT_RANKS = list(range(1, len(SUIT_LABELS) + 1))\n",
    "\n",
    "for suit in [DIAMONDS, HEARTS, SPADES, CLUBS]:\n",
    "    for label, rank in zip(SUIT_LABELS, SUIT_RANKS):\n",
    "        if label == 4 and suit in BLACK_SUITS:\n",
    "            continue\n",
    "        \n",
    "        DECK.append(Card(suit, label, rank))\n",
    "\n",
    "print(DECK)\n",
    "print(len(DECK))\n",
    "\n",
    "# kitty = [Card(DIAMONDS, 1), Card(DIAMONDS, 2), Card(SPADES, 3)]\n",
    "\n",
    "# players: List[Player] = []\n",
    "\n",
    "# for i in range(4):\n",
    "#     players.append(Player([]))"
   ]
  }
 ],
 "metadata": {
  "kernelspec": {
   "display_name": "500bot",
   "language": "python",
   "name": "python3"
  },
  "language_info": {
   "codemirror_mode": {
    "name": "ipython",
    "version": 3
   },
   "file_extension": ".py",
   "mimetype": "text/x-python",
   "name": "python",
   "nbconvert_exporter": "python",
   "pygments_lexer": "ipython3",
   "version": "3.7.12"
  }
 },
 "nbformat": 4,
 "nbformat_minor": 2
}
