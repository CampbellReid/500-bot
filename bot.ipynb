{
 "cells": [
  {
   "cell_type": "code",
   "execution_count": 77,
   "metadata": {},
   "outputs": [],
   "source": [
    "from typing import List\n",
    "\n",
    "class Card:\n",
    "    def __init__(self, suit: str, label: any, rank: int):\n",
    "        self.suit = suit\n",
    "        self.label = label\n",
    "        self.rank = rank\n",
    "    \n",
    "    def __repr__(self):\n",
    "        return f'Card({self.label} of {self.suit}, rank {self.rank})'\n",
    "    \n",
    "    def __str__(self):\n",
    "        return f'{self.label} of {self.suit}, rank {self.rank}'"
   ]
  },
  {
   "cell_type": "code",
   "execution_count": 78,
   "metadata": {},
   "outputs": [
    {
     "name": "stdout",
     "output_type": "stream",
     "text": [
      "[Card(JOKER of WILD, rank 100), Card(4 of DIAMONDS, rank 1), Card(5 of DIAMONDS, rank 2), Card(6 of DIAMONDS, rank 3), Card(7 of DIAMONDS, rank 4), Card(8 of DIAMONDS, rank 5), Card(9 of DIAMONDS, rank 6), Card(10 of DIAMONDS, rank 7), Card(J of DIAMONDS, rank 8), Card(Q of DIAMONDS, rank 9), Card(K of DIAMONDS, rank 10), Card(A of DIAMONDS, rank 11), Card(4 of HEARTS, rank 1), Card(5 of HEARTS, rank 2), Card(6 of HEARTS, rank 3), Card(7 of HEARTS, rank 4), Card(8 of HEARTS, rank 5), Card(9 of HEARTS, rank 6), Card(10 of HEARTS, rank 7), Card(J of HEARTS, rank 8), Card(Q of HEARTS, rank 9), Card(K of HEARTS, rank 10), Card(A of HEARTS, rank 11), Card(5 of SPADES, rank 2), Card(6 of SPADES, rank 3), Card(7 of SPADES, rank 4), Card(8 of SPADES, rank 5), Card(9 of SPADES, rank 6), Card(10 of SPADES, rank 7), Card(J of SPADES, rank 8), Card(Q of SPADES, rank 9), Card(K of SPADES, rank 10), Card(A of SPADES, rank 11), Card(5 of CLUBS, rank 2), Card(6 of CLUBS, rank 3), Card(7 of CLUBS, rank 4), Card(8 of CLUBS, rank 5), Card(9 of CLUBS, rank 6), Card(10 of CLUBS, rank 7), Card(J of CLUBS, rank 8), Card(Q of CLUBS, rank 9), Card(K of CLUBS, rank 10), Card(A of CLUBS, rank 11)]\n",
      "43\n"
     ]
    }
   ],
   "source": [
    "DIAMONDS = 'DIAMONDS'\n",
    "HEARTS = 'HEARTS'\n",
    "SPADES = 'SPADES'\n",
    "CLUBS = 'CLUBS'\n",
    "WILD = 'WILD'\n",
    "\n",
    "RED_SUITS = [DIAMONDS, HEARTS]\n",
    "BLACK_SUITS = [SPADES, CLUBS]\n",
    "\n",
    "JOKER = 'JOKER'\n",
    "\n",
    "DECK = [Card(WILD, JOKER, 100)]\n",
    "\n",
    "SUIT_LABELS = list(range(4, 11)) + ['J', 'Q', 'K', 'A']\n",
    "SUIT_RANKS = list(range(1, len(SUIT_LABELS) + 1))\n",
    "\n",
    "for suit in [DIAMONDS, HEARTS, SPADES, CLUBS]:\n",
    "    for label, rank in zip(SUIT_LABELS, SUIT_RANKS):\n",
    "        if label == 4 and suit in BLACK_SUITS:\n",
    "            continue\n",
    "        \n",
    "        DECK.append(Card(suit, label, rank))\n",
    "\n",
    "print(DECK)\n",
    "print(len(DECK))"
   ]
  },
  {
   "cell_type": "code",
   "execution_count": 79,
   "metadata": {},
   "outputs": [
    {
     "name": "stdout",
     "output_type": "stream",
     "text": [
      "[Card(10 of CLUBS, rank 7), Card(A of DIAMONDS, rank 11), Card(J of CLUBS, rank 8), Card(JOKER of WILD, rank 100), Card(5 of SPADES, rank 2), Card(Q of HEARTS, rank 9), Card(6 of HEARTS, rank 3), Card(10 of DIAMONDS, rank 7), Card(10 of HEARTS, rank 7), Card(K of HEARTS, rank 10), Card(4 of HEARTS, rank 1), Card(9 of DIAMONDS, rank 6), Card(8 of DIAMONDS, rank 5), Card(4 of DIAMONDS, rank 1), Card(10 of SPADES, rank 7), Card(7 of HEARTS, rank 4), Card(K of DIAMONDS, rank 10), Card(Q of CLUBS, rank 9), Card(9 of SPADES, rank 6), Card(6 of CLUBS, rank 3), Card(J of SPADES, rank 8), Card(K of CLUBS, rank 10), Card(5 of CLUBS, rank 2), Card(9 of HEARTS, rank 6), Card(9 of CLUBS, rank 6), Card(8 of CLUBS, rank 5), Card(7 of CLUBS, rank 4), Card(6 of DIAMONDS, rank 3), Card(A of CLUBS, rank 11), Card(7 of DIAMONDS, rank 4), Card(Q of DIAMONDS, rank 9), Card(J of DIAMONDS, rank 8), Card(5 of HEARTS, rank 2), Card(A of HEARTS, rank 11), Card(Q of SPADES, rank 9), Card(J of HEARTS, rank 8), Card(7 of SPADES, rank 4), Card(K of SPADES, rank 10), Card(A of SPADES, rank 11), Card(8 of HEARTS, rank 5), Card(5 of DIAMONDS, rank 2), Card(8 of SPADES, rank 5), Card(6 of SPADES, rank 3)]\n",
      "[[Card(6 of SPADES, rank 3), Card(8 of SPADES, rank 5), Card(5 of DIAMONDS, rank 2), Card(7 of DIAMONDS, rank 4), Card(A of CLUBS, rank 11), Card(6 of DIAMONDS, rank 3), Card(7 of CLUBS, rank 4), Card(8 of DIAMONDS, rank 5), Card(9 of DIAMONDS, rank 6), Card(4 of HEARTS, rank 1)], [Card(8 of HEARTS, rank 5), Card(A of SPADES, rank 11), Card(K of SPADES, rank 10), Card(8 of CLUBS, rank 5), Card(9 of CLUBS, rank 6), Card(9 of HEARTS, rank 6), Card(5 of CLUBS, rank 2), Card(K of HEARTS, rank 10), Card(10 of HEARTS, rank 7), Card(10 of DIAMONDS, rank 7)], [Card(7 of SPADES, rank 4), Card(J of HEARTS, rank 8), Card(Q of SPADES, rank 9), Card(K of CLUBS, rank 10), Card(J of SPADES, rank 8), Card(6 of CLUBS, rank 3), Card(9 of SPADES, rank 6), Card(6 of HEARTS, rank 3), Card(Q of HEARTS, rank 9), Card(5 of SPADES, rank 2)], [Card(A of HEARTS, rank 11), Card(5 of HEARTS, rank 2), Card(J of DIAMONDS, rank 8), Card(Q of CLUBS, rank 9), Card(K of DIAMONDS, rank 10), Card(7 of HEARTS, rank 4), Card(10 of SPADES, rank 7), Card(JOKER of WILD, rank 100), Card(J of CLUBS, rank 8), Card(A of DIAMONDS, rank 11)]]\n",
      "[Card(Q of DIAMONDS, rank 9), Card(4 of DIAMONDS, rank 1), Card(10 of CLUBS, rank 7)]\n",
      "[]\n"
     ]
    }
   ],
   "source": [
    "from random import shuffle, seed\n",
    "from copy import deepcopy\n",
    "\n",
    "SEED = 0\n",
    "\n",
    "seed(SEED)\n",
    "\n",
    "shuffled_deck = deepcopy(DECK)\n",
    "shuffle(shuffled_deck)\n",
    "\n",
    "print(shuffled_deck)\n",
    "\n",
    "kitty = []\n",
    "players_cards = [[] for _ in range(4)]\n",
    "\n",
    "for cards_to_be_dealt in [3, 4, 3]:\n",
    "    for player in players_cards:\n",
    "        player.extend([shuffled_deck.pop() for _ in range(cards_to_be_dealt)])\n",
    "    \n",
    "    kitty.append(shuffled_deck.pop())\n",
    "\n",
    "print(players_cards)\n",
    "print(kitty)\n",
    "print(shuffled_deck)"
   ]
  },
  {
   "cell_type": "code",
   "execution_count": 80,
   "metadata": {},
   "outputs": [],
   "source": [
    "class Player:\n",
    "    def __init__(self, label: any, cards: List[Card]):\n",
    "        self.label = label\n",
    "        self.cards = cards\n",
    "    \n",
    "    def sort_cards(self):\n",
    "        self.cards.sort(key=lambda card: (card.suit, card.rank))\n",
    "    \n",
    "    def __repr__(self):\n",
    "        return f'Player({self.label}, {self.cards})'\n",
    "    \n",
    "    def __str__(self):\n",
    "        return f'{self.label}: {self.cards}'"
   ]
  },
  {
   "cell_type": "code",
   "execution_count": 81,
   "metadata": {},
   "outputs": [
    {
     "name": "stdout",
     "output_type": "stream",
     "text": [
      "[Player(N, [Card(6 of SPADES, rank 3), Card(8 of SPADES, rank 5), Card(5 of DIAMONDS, rank 2), Card(7 of DIAMONDS, rank 4), Card(A of CLUBS, rank 11), Card(6 of DIAMONDS, rank 3), Card(7 of CLUBS, rank 4), Card(8 of DIAMONDS, rank 5), Card(9 of DIAMONDS, rank 6), Card(4 of HEARTS, rank 1)]), Player(E, [Card(8 of HEARTS, rank 5), Card(A of SPADES, rank 11), Card(K of SPADES, rank 10), Card(8 of CLUBS, rank 5), Card(9 of CLUBS, rank 6), Card(9 of HEARTS, rank 6), Card(5 of CLUBS, rank 2), Card(K of HEARTS, rank 10), Card(10 of HEARTS, rank 7), Card(10 of DIAMONDS, rank 7)]), Player(S, [Card(7 of SPADES, rank 4), Card(J of HEARTS, rank 8), Card(Q of SPADES, rank 9), Card(K of CLUBS, rank 10), Card(J of SPADES, rank 8), Card(6 of CLUBS, rank 3), Card(9 of SPADES, rank 6), Card(6 of HEARTS, rank 3), Card(Q of HEARTS, rank 9), Card(5 of SPADES, rank 2)]), Player(W, [Card(A of HEARTS, rank 11), Card(5 of HEARTS, rank 2), Card(J of DIAMONDS, rank 8), Card(Q of CLUBS, rank 9), Card(K of DIAMONDS, rank 10), Card(7 of HEARTS, rank 4), Card(10 of SPADES, rank 7), Card(JOKER of WILD, rank 100), Card(J of CLUBS, rank 8), Card(A of DIAMONDS, rank 11)])]\n"
     ]
    }
   ],
   "source": [
    "players = [Player(label, cards) for label, cards in zip(['N', 'E', 'S', 'W'], players_cards)]\n",
    "print(players)"
   ]
  },
  {
   "cell_type": "code",
   "execution_count": 82,
   "metadata": {},
   "outputs": [
    {
     "name": "stdout",
     "output_type": "stream",
     "text": [
      "N: [Card(7 of CLUBS, rank 4), Card(A of CLUBS, rank 11), Card(5 of DIAMONDS, rank 2), Card(6 of DIAMONDS, rank 3), Card(7 of DIAMONDS, rank 4), Card(8 of DIAMONDS, rank 5), Card(9 of DIAMONDS, rank 6), Card(4 of HEARTS, rank 1), Card(6 of SPADES, rank 3), Card(8 of SPADES, rank 5)]\n",
      "E: [Card(5 of CLUBS, rank 2), Card(8 of CLUBS, rank 5), Card(9 of CLUBS, rank 6), Card(10 of DIAMONDS, rank 7), Card(8 of HEARTS, rank 5), Card(9 of HEARTS, rank 6), Card(10 of HEARTS, rank 7), Card(K of HEARTS, rank 10), Card(K of SPADES, rank 10), Card(A of SPADES, rank 11)]\n",
      "S: [Card(6 of CLUBS, rank 3), Card(K of CLUBS, rank 10), Card(6 of HEARTS, rank 3), Card(J of HEARTS, rank 8), Card(Q of HEARTS, rank 9), Card(5 of SPADES, rank 2), Card(7 of SPADES, rank 4), Card(9 of SPADES, rank 6), Card(J of SPADES, rank 8), Card(Q of SPADES, rank 9)]\n",
      "W: [Card(J of CLUBS, rank 8), Card(Q of CLUBS, rank 9), Card(J of DIAMONDS, rank 8), Card(K of DIAMONDS, rank 10), Card(A of DIAMONDS, rank 11), Card(5 of HEARTS, rank 2), Card(7 of HEARTS, rank 4), Card(A of HEARTS, rank 11), Card(10 of SPADES, rank 7), Card(JOKER of WILD, rank 100)]\n"
     ]
    }
   ],
   "source": [
    "for player in players:\n",
    "    player.sort_cards()\n",
    "    print(player)"
   ]
  },
  {
   "cell_type": "code",
   "execution_count": 96,
   "metadata": {},
   "outputs": [
    {
     "name": "stdout",
     "output_type": "stream",
     "text": [
      "bid 1, bid 2, bid1 < bid2, bid1 <= bid2, bid1 > bid2, bid1 >= bid2, bid1 == bid2, bid1 != bid2\n",
      "6 SPADES, 7 SPADES, True, True, False, False, False, True\n",
      "10 SPADES, 10 DIAMONDS, True, True, False, False, False, True\n",
      "7 NO TRUMPS, 7 CLOSED MISERE, True, True, False, False, False, True\n",
      "10 DIAMONDS, 10 OPEN MISERE, True, True, False, False, False, True\n",
      "10 NO TRUMPS, 10 DIAMONDS, False, False, True, True, False, True\n",
      "8 CLUBS, 8 CLUBS, False, True, False, True, True, False\n"
     ]
    }
   ],
   "source": [
    "NO_TRUMPS = 'NO TRUMPS'\n",
    "CLOSED_MISERE = 'CLOSED MISERE'\n",
    "OPEN_MISERE = 'OPEN MISERE'\n",
    "\n",
    "BID_SUITS = [SPADES, CLUBS, DIAMONDS, HEARTS, NO_TRUMPS]\n",
    "ALL_BID_SUITS = [SPADES, CLUBS, DIAMONDS, OPEN_MISERE, HEARTS, NO_TRUMPS, CLOSED_MISERE]\n",
    "BID_SUITS_RANKINGS = {suit: i for i, suit in enumerate(ALL_BID_SUITS)}\n",
    "\n",
    "class Bid:\n",
    "    def __init__(self, suit: str, tricks_to_win: int):\n",
    "        self.suit = suit\n",
    "        self.tricks_to_win = tricks_to_win\n",
    "    \n",
    "    def __repr__(self):\n",
    "        return f'Bid({self.tricks_to_win} {self.suit})'\n",
    "    \n",
    "    def __str__(self):\n",
    "        return f'{self.tricks_to_win} {self.suit}'\n",
    "    \n",
    "    def __lt__(self, other):\n",
    "        return (self.tricks_to_win, BID_SUITS_RANKINGS[self.suit]) < (other.tricks_to_win, BID_SUITS_RANKINGS[other.suit])\n",
    "\n",
    "    def __le__(self, other):\n",
    "        return (self.tricks_to_win, BID_SUITS_RANKINGS[self.suit]) <= (other.tricks_to_win, BID_SUITS_RANKINGS[other.suit])\n",
    "\n",
    "    def __gt__(self, other):\n",
    "        return (self.tricks_to_win, BID_SUITS_RANKINGS[self.suit]) > (other.tricks_to_win, BID_SUITS_RANKINGS[other.suit])\n",
    "\n",
    "    def __ge__(self, other):\n",
    "        return (self.tricks_to_win, BID_SUITS_RANKINGS[self.suit]) >= (other.tricks_to_win, BID_SUITS_RANKINGS[other.suit])\n",
    "\n",
    "    def __eq__(self, other):\n",
    "        return self.suit == other.suit and self.tricks_to_win == other.tricks_to_win\n",
    "\n",
    "    def __ne__(self, other):\n",
    "        return not self == other\n",
    "\n",
    "tests_bid1 = [Bid(SPADES, 6), Bid(SPADES, 10), Bid(NO_TRUMPS, 7), Bid(DIAMONDS, 10), Bid(NO_TRUMPS, 10), Bid(CLUBS, 8)]\n",
    "tests_bid2 = [Bid(SPADES, 7), Bid(DIAMONDS, 10), Bid(CLOSED_MISERE, 7), Bid(OPEN_MISERE, 10), Bid(DIAMONDS, 10), Bid(CLUBS, 8)]\n",
    "\n",
    "print(\"bid 1, bid 2, bid1 < bid2, bid1 <= bid2, bid1 > bid2, bid1 >= bid2, bid1 == bid2, bid1 != bid2\")\n",
    "for bid1, bid2 in zip(tests_bid1, tests_bid2):\n",
    "    print(bid1, bid2, bid1 < bid2, bid1 <= bid2, bid1 > bid2, bid1 >= bid2, bid1 == bid2, bid1 != bid2, sep=', ')"
   ]
  },
  {
   "cell_type": "code",
   "execution_count": 87,
   "metadata": {},
   "outputs": [
    {
     "name": "stdout",
     "output_type": "stream",
     "text": [
      "[Bid(6 SPADES), Bid(6 CLUBS), Bid(6 DIAMONDS), Bid(6 HEARTS), Bid(6 NO TRUMPS), Bid(7 SPADES), Bid(7 CLUBS), Bid(7 DIAMONDS), Bid(7 HEARTS), Bid(7 NO TRUMPS), Bid(7 CLOSED MISERE), Bid(8 SPADES), Bid(8 CLUBS), Bid(8 DIAMONDS), Bid(8 HEARTS), Bid(8 NO TRUMPS), Bid(9 SPADES), Bid(9 CLUBS), Bid(9 DIAMONDS), Bid(9 HEARTS), Bid(9 NO TRUMPS), Bid(10 SPADES), Bid(10 CLUBS), Bid(10 DIAMONDS), Bid(10 OPEN MISERE), Bid(10 HEARTS), Bid(10 NO TRUMPS)]\n"
     ]
    }
   ],
   "source": [
    "BIDS = []\n",
    "\n",
    "for tricks_to_win in range(6, 11):\n",
    "    if tricks_to_win == 10:\n",
    "        BIDS.append(Bid(SPADES, tricks_to_win))\n",
    "        BIDS.append(Bid(CLUBS, tricks_to_win))\n",
    "        BIDS.append(Bid(DIAMONDS, tricks_to_win))\n",
    "        BIDS.append(Bid(OPEN_MISERE, tricks_to_win))\n",
    "        BIDS.append(Bid(HEARTS, tricks_to_win))\n",
    "        BIDS.append(Bid(NO_TRUMPS, tricks_to_win))\n",
    "        break\n",
    "    \n",
    "    BIDS.extend([Bid(suit, tricks_to_win) for suit in BID_SUITS])\n",
    "    \n",
    "    if tricks_to_win == 7:\n",
    "        BIDS.append(Bid(CLOSED_MISERE, tricks_to_win))\n",
    "\n",
    "print(BIDS)"
   ]
  }
 ],
 "metadata": {
  "kernelspec": {
   "display_name": "500bot",
   "language": "python",
   "name": "python3"
  },
  "language_info": {
   "codemirror_mode": {
    "name": "ipython",
    "version": 3
   },
   "file_extension": ".py",
   "mimetype": "text/x-python",
   "name": "python",
   "nbconvert_exporter": "python",
   "pygments_lexer": "ipython3",
   "version": "3.7.12"
  }
 },
 "nbformat": 4,
 "nbformat_minor": 2
}
